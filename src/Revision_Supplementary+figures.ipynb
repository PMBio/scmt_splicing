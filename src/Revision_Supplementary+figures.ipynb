{
 "cells": [
  {
   "cell_type": "markdown",
   "metadata": {},
   "source": [
    "# Import packages"
   ]
  },
  {
   "cell_type": "code",
   "execution_count": 37,
   "metadata": {
    "collapsed": true
   },
   "outputs": [],
   "source": [
    "import os\n",
    "import pandas as pd\n",
    "import numpy as np\n",
    "import matplotlib.pyplot as plt\n",
    "from scipy import stats\n",
    "import math\n",
    "import scipy as sp\n",
    "from scipy import interpolate\n",
    "%matplotlib inline "
   ]
  },
  {
   "cell_type": "markdown",
   "metadata": {},
   "source": [
    "# Raw data files"
   ]
  },
  {
   "cell_type": "code",
   "execution_count": null,
   "metadata": {},
   "outputs": [],
   "source": [
    "read_depth_file = 'read_depth_file_path' \n",
    "\n",
    "#brie output file direction where fractions.tsv files are located\n",
    "raw_brie_file_location = 'brie_path'  \n",
    "\n",
    "#categories of exons\n",
    "exon_categories_ips = 'categories_path_ips'   \n",
    "exon_categories_endo = 'categories_path_endo'\n",
    "\n",
    "# single cell methylation data\n",
    "\n",
    "#single cell methylation\n",
    "methylation_of_cells = 'methylation_of_cells_path'   \n",
    "methylation_of_cells_endo = 'methylation_of_cells_path_endo'   \n",
    "#methylation of individual genes of cells\n",
    "methylation_of_individual_genes = 'methylation_of_individual_genes_path' \n",
    "\n",
    "# Psi values\n",
    "Psi_values_ips = 'Psi_ips_path'    \n",
    "Psi_values_endo =  'Psi_endo_path' \n",
    "single_cell_Psi_ips = 'single_cell_Psi_ips_path'               \n",
    "\n",
    "# list of multicell reads that have to be removed from data\n",
    "drop_list_all = [\"20287_7.1\", \"20287_7.8\", \"20287_8.1\", \"20287_8.8\"]\n"
   ]
  },
  {
   "cell_type": "markdown",
   "metadata": {},
   "source": [
    "# Splicing read depth iPS vs endo "
   ]
  },
  {
   "cell_type": "code",
   "execution_count": 4,
   "metadata": {},
   "outputs": [],
   "source": [
    "#just do the analysis on the cells that are also present in reads\n",
    "df_reads=pd.read_csv(read_depth_file, sep=',', index_col=0) \n",
    "new_index_names = [entry.replace(\"#\", \".\") for entry in df_reads.columns]\n",
    "df_reads.columns = new_index_names\n",
    "df_reads = df_reads.drop(drop_list_all, axis=1)\n"
   ]
  },
  {
   "cell_type": "code",
   "execution_count": 5,
   "metadata": {},
   "outputs": [],
   "source": [
    "dir_brie = raw_brie_file_location\n",
    "covered_side= []\n",
    "# total splice counts \n",
    "splice_count_dict = {}\n",
    "for entry in os.listdir(dir_brie): \n",
    "     \n",
    "    try:\n",
    "        name = entry.split(\"_\")[1] + \"_\" + entry.split(\"_\")[2].split(\".2\")[0]\n",
    "        if name in df_reads.columns:\n",
    "            file_reads=dir_brie+entry+'/fractions.tsv'\n",
    "            df_reads_curr=pd.read_csv(file_reads, sep='\\t', skiprows=1, header=None )\n",
    "            counts=df_reads_curr[3]\n",
    "            counts=counts.astype(np.float)\n",
    "\n",
    "            # get number of covered sites:\n",
    "            covered_side.append(df_reads_curr[df_reads_curr[3]>0].shape[0])\n",
    "\n",
    "            # generate dictionary that contains estimated number of splice events\n",
    "            total_counts=(counts[1:].values+counts[:-1].values)\n",
    "            splice_count_dict[name] = np.sum(total_counts)\n",
    "    except:\n",
    "        pass"
   ]
  },
  {
   "cell_type": "code",
   "execution_count": 7,
   "metadata": {
    "collapsed": true
   },
   "outputs": [],
   "source": [
    "read_vec_ips=[]\n",
    "splice_vec_ips=[]\n",
    "read_vec_endo=[]\n",
    "splice_vec_endo=[]\n",
    "\n",
    "for name in splice_count_dict.keys():\n",
    "    try:\n",
    "        if name[6]=='7': # iPS cells\n",
    "            # devide by 1 millions to have nices axis\n",
    "            read_vec_ips.append(df_reads[name].values[0]/1000000.)\n",
    "            splice_vec_ips.append(splice_count_dict[name]/1000000.)\n",
    "        elif name[6]=='8': # endoderm cells\n",
    "            read_vec_endo.append(df_reads[name].values[0]/1000000.)\n",
    "            splice_vec_endo.append(splice_count_dict[name]/1000000.)\n",
    "    except:\n",
    "        pass"
   ]
  },
  {
   "cell_type": "code",
   "execution_count": 8,
   "metadata": {},
   "outputs": [
    {
     "data": {
      "image/png": "[encoded data removed]",
      "text/plain": [
       "<matplotlib.figure.Figure at 0x2afc8c54ed90>"
      ]
     },
     "metadata": {},
     "output_type": "display_data"
    }
   ],
   "source": [
    "plt.figure(figsize=(8, 5))\n",
    "ax = plt.subplot(111)\n",
    "\n",
    "\n",
    "ax.set_xlabel('# reads [million]' )\n",
    "ax.set_ylabel('# splice events [million]')\n",
    "ax.spines['right'].set_visible(False)\n",
    "ax.spines['top'].set_visible(False)\n",
    "ax.scatter(read_vec_0, splice_vec_0, s=50, edgecolor='', c = 'navy', label=\"iPS\")\n",
    "ax.scatter(read_vec_3, splice_vec_3, s=50, edgecolor='', c = 'darkorange', label=\"endo\")\n",
    "plt.legend(loc=\"best\", shadow=False, scatterpoints=1, frameon=False)\n",
    "\n"
   ]
  },
  {
   "cell_type": "markdown",
   "metadata": {},
   "source": [
    "# Methylation distribution plot regions"
   ]
  },
  {
   "cell_type": "code",
   "execution_count": 9,
   "metadata": {
    "collapsed": true
   },
   "outputs": [],
   "source": [
    "# based on categories\n",
    "cate = pd.read_csv(exon_categories_ips, index_col=0, header=None)\n",
    "cate.columns = [\"category\"]\n",
    "label_list_under_own=cate[cate[\"category\"]==\"underdispersed\"].index\n",
    "\n",
    "# load methylation of individual genes of cells\n",
    "df_gene_meth=pd.read_csv(methylation_of_individual_genes, index_col=0)\n",
    "df_gene_meth.index=[ entry.replace(\"#\", \".\") for entry in df_gene_meth.index]\n",
    "\n",
    "# load Psi values\n",
    "Psi_ips = pd.read_csv(Psi_values_ips, index_col=0)\n",
    "Psi_ips = Psi_ips.T\n",
    "Psi_endo = pd.read_csv(Psi_values_endo, index_col=0)\n",
    "Psi_endo = Psi_endo.T\n",
    "\n",
    "#load single cell methylation\n",
    "single_cell_meth_dict = np.load(methylation_of_cells).item()"
   ]
  },
  {
   "cell_type": "code",
   "execution_count": 11,
   "metadata": {
    "collapsed": true
   },
   "outputs": [],
   "source": [
    "# comparison of the mean meth state\n",
    "z_under_C1=[]\n",
    "z_under_I1_5p=[]\n",
    "z_under_I1_3p=[]\n",
    "z_under_A=[]\n",
    "z_under_I2_5p=[]\n",
    "z_under_I2_3p=[]\n",
    "z_under_C2=[]\n",
    "\n",
    "under_list = [z_under_C1, z_under_I1_5p, z_under_I1_3p,z_under_A, z_under_I2_5p, z_under_I2_3p,  z_under_C2]\n",
    "\n",
    "z_under_alt_C1=[]\n",
    "z_under_alt_I1_5p=[]\n",
    "z_under_alt_I1_3p=[]\n",
    "z_under_alt_A=[]\n",
    "z_under_alt_I2_5p=[]\n",
    "z_under_alt_I2_3p=[]\n",
    "z_under_alt_C2=[]\n",
    "\n",
    "under_list_alt = [z_under_alt_C1, z_under_alt_I1_5p, z_under_alt_I1_3p,z_under_A, z_under_alt_I2_5p, z_under_alt_I2_3p,  z_under_alt_C2]\n",
    "exon_list = [\"C1\", \"I1_5p\", \"I1_3p\", \"A\", \"I2_5p\", \"I2_3p\", \"C2\"]\n",
    "\n",
    "for i in label_list_under_own: \n",
    "    name=i \n",
    "    m=0\n",
    "    for curr_list in under_list:        \n",
    "        under_list[m]=np.append(under_list[m], df_gene_meth[name].T[Psi_ips[name].dropna().index].values)\n",
    "    \n",
    "        for cell_name in Psi_ips[name].dropna().index:\n",
    "            cell_name=cell_name.replace(\".\", \"#\")\n",
    "            under_list_alt[m]=np.append(under_list_alt[m],single_cell_meth_dict[cell_name].T[name][exon_list[m]] )\n",
    "        m+=1"
   ]
  },
  {
   "cell_type": "code",
   "execution_count": 12,
   "metadata": {},
   "outputs": [
    {
     "data": {
      "image/png": "[encoded data removed]",
      "text/plain": [
       "<matplotlib.figure.Figure at 0x2afc8c54ef50>"
      ]
     },
     "metadata": {},
     "output_type": "display_data"
    }
   ],
   "source": [
    "f, ax = plt.subplots( figsize=(22,4))\n",
    "ax.set_ylabel(\"gene methylation\")\n",
    "\n",
    "\n",
    "\n",
    "ax.set_xticklabels([\"0\", \"C1\", \"I1_5p\", \"I1_3p\", \"A\", \"I2_5p\", \"I2_3p\", \"C2\"])\n",
    "\n",
    "ax.violinplot(under_list_alt, widths=0.98)\n",
    "\n",
    "ax.spines['right'].set_visible(False)\n",
    "ax.spines['top'].set_visible(False)\n"
   ]
  },
  {
   "cell_type": "markdown",
   "metadata": {},
   "source": [
    "# Heatmap methylation difference change category iPS and endo"
   ]
  },
  {
   "cell_type": "code",
   "execution_count": null,
   "metadata": {
    "collapsed": true
   },
   "outputs": [],
   "source": [
    "# get methylation difference between iPS and endo\n",
    "def get_meth_difference(name):\n",
    "    z_ips = []\n",
    "    z_endo = []\n",
    "    # get distribution for iPS\n",
    "    for cell_name in Psi_ips[name].dropna().index:      \n",
    "        z_ips=np.append(z_ips, df_gene_meth[name].T[Psi_ips[name].dropna().index][cell_name])\n",
    "    \n",
    "    # get distribution for endo\n",
    "    for cell_name in Psi_endo[name].dropna().index:      \n",
    "        z_endo=np.append(z_endo, df_gene_meth[name].T[Psi_endo[name].dropna().index][cell_name])\n",
    "    \n",
    "    # return both distributions \n",
    "    return z_ips, z_endo\n",
    "    "
   ]
  },
  {
   "cell_type": "code",
   "execution_count": 48,
   "metadata": {
    "collapsed": true
   },
   "outputs": [],
   "source": [
    "\n",
    "def estimate_q(pv, m=None, verbose=False, lowmem=False, pi0=None):\n",
    "    \"\"\"\n",
    "    Estimates q-values from p-values\n",
    "    Args\n",
    "    =====\n",
    "    m: number of tests. If not specified m = pv.size\n",
    "    verbose: print verbose messages? (default False)\n",
    "    lowmem: use memory-efficient in-place algorithm\n",
    "    pi0: if None, it's estimated as suggested in Storey and Tibshirani, 2003.\n",
    "         For most GWAS this is not necessary, since pi0 is extremely likely to be\n",
    "         1\n",
    "    \"\"\"\n",
    "    assert(pv.min() >= 0 and pv.max() <= 1), \"p-values should be between 0 and 1\"\n",
    "\n",
    "    original_shape = pv.shape\n",
    "    pv = pv.ravel()  # flattens the array in place, more efficient than flatten()\n",
    "\n",
    "    if m is None:\n",
    "        m = float(len(pv))\n",
    "    else:\n",
    "        # the user has supplied an m\n",
    "        m *= 1.0\n",
    "\n",
    "    # if the number of hypotheses is small, just set pi0 to 1\n",
    "    if len(pv) < 100 and pi0 is None:\n",
    "        pi0 = 1.0\n",
    "    elif pi0 is not None:\n",
    "        pi0 = pi0\n",
    "    else:\n",
    "        # evaluate pi0 for different lambdas\n",
    "        pi0 = []\n",
    "        lam = sp.arange(0, 0.90, 0.01)\n",
    "        counts = sp.array([(pv > i).sum() for i in sp.arange(0, 0.9, 0.01)])\n",
    "        for l in range(len(lam)):\n",
    "            pi0.append(counts[l]/(m*(1-lam[l])))\n",
    "\n",
    "        pi0 = sp.array(pi0)\n",
    "\n",
    "        # fit natural cubic spline\n",
    "        tck = interpolate.splrep(lam, pi0, k=3)\n",
    "        pi0 = interpolate.splev(lam[-1], tck)\n",
    "        if verbose:\n",
    "            print(\"qvalues pi0=%.3f, estimated proportion of null features \" % pi0)\n",
    "\n",
    "        if pi0 > 1:\n",
    "            if verbose:\n",
    "                print(\"got pi0 > 1 (%.3f) while estimating qvalues, setting it to 1\" % pi0)\n",
    "            pi0 = 1.0\n",
    "\n",
    "    assert(pi0 >= 0 and pi0 <= 1), \"pi0 is not between 0 and 1: %f\" % pi0\n",
    "\n",
    "    if lowmem:\n",
    "        # low memory version, only uses 1 pv and 1 qv matrices\n",
    "        qv = sp.zeros((len(pv),))\n",
    "        last_pv = pv.argmax()\n",
    "        qv[last_pv] = (pi0*pv[last_pv]*m)/float(m)\n",
    "        pv[last_pv] = -sp.inf\n",
    "        prev_qv = last_pv\n",
    "        for i in xrange(int(len(pv))-2, -1, -1):\n",
    "            cur_max = pv.argmax()\n",
    "            qv_i = (pi0*m*pv[cur_max]/float(i+1))\n",
    "            pv[cur_max] = -sp.inf\n",
    "            qv_i1 = prev_qv\n",
    "            qv[cur_max] = min(qv_i, qv_i1)\n",
    "            prev_qv = qv[cur_max]\n",
    "\n",
    "    else:\n",
    "        p_ordered = sp.argsort(pv)\n",
    "        pv = pv[p_ordered]\n",
    "        qv = pi0 * m/len(pv) * pv\n",
    "        qv[-1] = min(qv[-1], 1.0)\n",
    "\n",
    "        for i in xrange(len(pv)-2, -1, -1):\n",
    "            qv[i] = min(pi0*m*pv[i]/(i+1.0), qv[i+1])\n",
    "\n",
    "        # reorder qvalues\n",
    "        qv_temp = qv.copy()\n",
    "        qv = sp.zeros_like(qv)\n",
    "        qv[p_ordered] = qv_temp\n",
    "\n",
    "    # reshape qvalues\n",
    "    qv = qv.reshape(original_shape)\n",
    "\n",
    "    return qv"
   ]
  },
  {
   "cell_type": "code",
   "execution_count": 18,
   "metadata": {
    "collapsed": true
   },
   "outputs": [],
   "source": [
    "# based on categories\n",
    "cate = pd.read_csv(exon_categories_ips, index_col=0, header=None)\n",
    "cate.columns = [\"category\"]\n",
    "label_list_over_own=cate[cate[\"category\"]==\"overdispersed\"].index\n",
    "label_list_under_own=cate[cate[\"category\"]==\"underdispersed\"].index\n",
    "label_list_in_own=cate[cate[\"category\"]==\"included\"].index\n",
    "label_list_ex_own=cate[cate[\"category\"]==\"excluded\"].index\n",
    "label_list_mult_own=cate[cate[\"category\"]==\"multimodal\"].index\n",
    "\n",
    "\n",
    "# based on categories\n",
    "cate_endo = pd.read_csv(exon_categories_endo, index_col=0, header=None)\n",
    "label_list_over_own_endo=cate_endo[cate_endo[\"category\"]==\"overdispersed\"].index\n",
    "label_list_under_own_endo=cate_endo[cate_endo[\"category\"]==\"underdispersed\"].index\n",
    "label_list_in_own_endo=cate_endo[cate_endo[\"category\"]==\"included\"].index\n",
    "label_list_ex_own_endo=cate_endo[cate_endo[\"category\"]==\"excluded\"].index\n",
    "label_list_mult_own_endo=cate_endo[cate_endo[\"category\"]==\"multimodal\"].index\n",
    "\n",
    "# look for genes that change from over to underdispersed\n",
    "poss_day_endo = [label_list_over_own_endo, label_list_under_own_endo, label_list_in_own_endo, label_list_ex_own_endo, label_list_mult_own_endo  ]\n",
    "poss_day_endo_name = ['over_endo', 'under_endo', 'in_endo', 'ex_endo', 'mult_endo']\n",
    "poss_day_ips = [label_list_over_own, label_list_under_own, label_list_in_own, label_list_ex_own, label_list_mult_own  ]\n",
    "poss_day_ips_name = ['over_ips', 'under_ips', 'in_ips', 'ex_ips', 'mult_ips']\n",
    "\n",
    "transfer_dict = {}\n",
    "\n",
    "for n in range(len(poss_day_endo)):\n",
    "    for m in range(len(poss_day_ips)):\n",
    "        # set new list for each new combination\n",
    "        curr_list = []   \n",
    "        for entry in poss_day_endo[n]:\n",
    "            if entry in poss_day_ips[m]:\n",
    "                curr_list.append(entry)\n",
    "            # at the end write in dict\n",
    "            transfer_dict[(poss_day_ips_name[m] + \"_to_\" + poss_day_endo_name[n]) ] = curr_list"
   ]
  },
  {
   "cell_type": "code",
   "execution_count": 19,
   "metadata": {
    "collapsed": true
   },
   "outputs": [],
   "source": [
    "# Make df_delta only for one day\n",
    "\n",
    "# load Psi values\n",
    "Psi_ips = pd.read_csv(Psi_values_ips, index_col=0)\n",
    "Psi_ips = Psi_ips.T\n",
    "Psi_endo = pd.read_csv(Psi_values_endo, index_col=0)\n",
    "Psi_endo = Psi_endo.T\n",
    "\n",
    "#load single cell methylation\n",
    "#load single cell methylation\n",
    "single_cell_meth_dict = np.load(methylation_of_cells).item()\n",
    "single_cell_meth_dict_endo = np.load(methylation_of_cells_endo).item()\n",
    "# load methylation of individual genes of cells\n",
    "df_gene_meth=pd.read_csv(methylation_of_individual_genes, index_col=0)\n",
    "df_gene_meth.index=[ entry.replace(\"#\", \".\") for entry in df_gene_meth.index]"
   ]
  },
  {
   "cell_type": "code",
   "execution_count": null,
   "metadata": {},
   "outputs": [],
   "source": [
    "# get table with mean meth of iPS and endo\n",
    "mean_meth_dict = {}\n",
    "for title in transfer_dict:\n",
    "    z_ips_total = []\n",
    "    z_endo_total = []\n",
    "    for gene_name in transfer_dict[title]:\n",
    "        z_ips, z_endo = get_meth_difference(gene_name)\n",
    "        z_ips_total = z_ips_total + list(z_ips)\n",
    "        z_endo_total = z_endo_total + list(z_endo)\n",
    "    try:        \n",
    "        z_ips_total = [value for value in z_ips_total if not math.isnan(value)]\n",
    "        \n",
    "        z_endo_total = [value for value in z_endo_total if not math.isnan(value)]\n",
    "        \n",
    "        \n",
    "        # make tests\n",
    "        # t test\n",
    "        t_test = stats.ttest_ind(z_ips_total, z_endo_total)[1]\n",
    "        wilcoxn_ranksum = stats.ranksums(z_ips_total, z_endo_total)[1]\n",
    "        \n",
    "        z_ips_mean = np.mean(z_ips_total)\n",
    "        z_endo_mean = np.mean(z_endo_total)\n",
    "\n",
    "        \n",
    "        # write to table \n",
    "        try:\n",
    "            \n",
    "            mean_meth_dict[\"iPS\"].append(z_ips_mean) \n",
    "            mean_meth_dict[\"endo\"].append(z_endo_mean)\n",
    "            mean_meth_dict[\"ttest_ind\"].append(t_test) \n",
    "            mean_meth_dict[\"wilcoxn_ranksum\"].append(wilcoxn_ranksum)\n",
    "        except:\n",
    "            # when run the first time \n",
    "            mean_meth_dict[\"iPS\"] = [z_ips_mean]\n",
    "            mean_meth_dict[\"endo\"] = [z_endo_mean]\n",
    "            mean_meth_dict[\"ttest_ind\"] = [t_test]\n",
    "            mean_meth_dict[\"wilcoxn_ranksum\"] = [wilcoxn_ranksum]\n",
    "        \n",
    "    except:\n",
    "        pass\n",
    "    \n",
    "    "
   ]
  },
  {
   "cell_type": "code",
   "execution_count": null,
   "metadata": {},
   "outputs": [],
   "source": [
    "compare_meth_df = pd.DataFrame.from_dict(mean_meth_dict)\n",
    "title_list = []\n",
    "for title in transfer_dict:\n",
    "    title_list.append(title)\n",
    "compare_meth_df.index = title_list"
   ]
  },
  {
   "cell_type": "code",
   "execution_count": 54,
   "metadata": {
    "collapsed": true
   },
   "outputs": [],
   "source": [
    "y_name = [\"in_to_mult\", \"in_to_over\", \"in_to_under\", \"in_to_in\", \"ex_to_mult\", \"ex_to_over\", \"ex_to_ex\", \"mult_to_mult\", \"mult_to_over\", \"mult_to_under\", \"mult_to_in\" , \"mult_to_ex\", \"over_to_mult\", \"over_to_over\", \"over_to_in\", \"over_to_ex\", \"under_to_mult\", \"under_to_over\", \"under_to_under\", \"under_to_in\", \"under_to_ex\"]   \n",
    "\n",
    "is_significant_list = []\n",
    "methylation_difference_list = []\n",
    "methylation_day_ips_list = []\n",
    "methylation_day_endo_list = []\n",
    "\n",
    "m=0\n",
    "for name in y_name:\n",
    "    new_name = name.split(\"_\")[0] + \"_ips_to_\" + name.split(\"_\")[2]  + \"_endo\"\n",
    "    meth_day_ips = compare_meth_df.T[new_name][\"iPS\"]\n",
    "    meth_day_endo = compare_meth_df.T[new_name][\"endo\"]\n",
    "    diff_meth = meth_day_endo - meth_day_ips\n",
    "    is_significant = compare_meth_df.T[new_name][\"wilcoxn_ranksum\"] <= 0.05\n",
    "    is_significant_list.append(is_significant)\n",
    "    methylation_difference_list.append(diff_meth)\n",
    "    methylation_day_ips_list.append(meth_day_ips)\n",
    "    methylation_day_endo_list.append(meth_day_endo)"
   ]
  },
  {
   "cell_type": "code",
   "execution_count": 56,
   "metadata": {},
   "outputs": [
    {
     "data": {
      "image/png": "[encoded data removed]",
      "text/plain": [
       "<matplotlib.figure.Figure at 0x2afc9d4f8990>"
      ]
     },
     "metadata": {},
     "output_type": "display_data"
    }
   ],
   "source": [
    "# vertical\n",
    "lables2 = [ \"whole cassette exon\"]\n",
    "# as heatmap with methylation difference \n",
    "a = np.array([methylation_difference_list])\n",
    "y_name = [\"in_to_mult\", \"in_to_over\", \"in_to_under\", \"in_to_in\", \"ex_to_mult\", \"ex_to_over\", \"ex_to_ex\", \"mult_to_mult\", \"mult_to_over\", \"mult_to_under\", \"mult_to_in\" , \"mult_to_ex\", \"over_to_mult\", \"over_to_over\",  \"over_to_in\", \"over_to_ex\", \"under_to_mult\", \"under_to_over\", \"under_to_under\", \"under_to_in\", \"under_to_ex\"]   \n",
    "fig = plt.figure(figsize=(10, 1))\n",
    "ax= plt.subplot(111) \n",
    "plt.imshow(a, cmap='coolwarm', vmin=-0.3, vmax=0.3)\n",
    "ax.set_xticks(range(22))\n",
    "ax.set_yticks(range(1))\n",
    "\n",
    "ax.set_xticklabels(y_name, rotation=-80)\n",
    "ax.set_yticklabels(lables2)\n",
    "cbar = plt.colorbar()\n",
    "cbar.set_label(\"relative iPS methylation\", rotation=-90, labelpad=10)\n",
    "\n",
    "m=0\n",
    "for significant in is_significant_list:\n",
    "    if significant:\n",
    "        ax.scatter(m, 0, marker='*', s=40, color='black')\n",
    "        \n",
    "    m+=1\n",
    "        "
   ]
  }
 ],
 "metadata": {
  "kernelspec": {
   "display_name": "Python 3",
   "language": "python",
   "name": "python3"
  },
  "language_info": {
   "codemirror_mode": {
    "name": "ipython",
    "version": 3
   },
   "file_extension": ".py",
   "mimetype": "text/x-python",
   "name": "python",
   "nbconvert_exporter": "python",
   "pygments_lexer": "ipython3",
   "version": "3.6.4"
  }
 },
 "nbformat": 4,
 "nbformat_minor": 2
}
