{
 "cells": [
  {
   "cell_type": "code",
   "execution_count": null,
   "metadata": {
    "collapsed": true
   },
   "outputs": [],
   "source": [
    "import sys, os, re, math, sklearn, random\n",
    "import numpy as np\n",
    "import h5py as h5\n",
    "import pandas as pd\n",
    "from itertools import cycle\n",
    "import matplotlib.pyplot as plt\n",
    "import subprocess\n",
    "import itertools\n",
    "\n",
    "from sklearn.metrics import roc_auc_score, average_precision_score, roc_curve, precision_recall_curve, roc_curve, auc, accuracy_score\n",
    "from sklearn.preprocessing import LabelEncoder, label_binarize\n",
    "from sklearn.model_selection import cross_val_predict, train_test_split\n",
    "from sklearn import linear_model, svm, datasets\n",
    "from sklearn.linear_model import RidgeClassifier\n",
    "from sklearn.model_selection import StratifiedKFold\n",
    "from sklearn.multiclass import OneVsRestClassifier\n",
    "from scipy.stats import gaussian_kde\n",
    "from scipy.stats.stats import pearsonr\n",
    "from scipy.optimize import curve_fit\n",
    "from scipy import interp\n",
    "from scipy.stats import sem\n",
    "import scipy.stats as stats\n",
    "import statsmodels.formula.api as sm\n",
    "import statsmodels.api as sma\n",
    "\n",
    "from collections import defaultdict\n",
    "\n",
    "random.seed(17538)\n",
    "\n",
    "%matplotlib inline \n",
    "\n",
    "direction = 'directory'\n",
    "os.chdir(direction)"
   ]
  },
  {
   "cell_type": "code",
   "execution_count": 2,
   "metadata": {
    "collapsed": true
   },
   "outputs": [],
   "source": [
    "def preprocess(x, y):\n",
    "    common_genes=list(set(x.index)&set(y.index))\n",
    "    x_new=x.T[common_genes].T\n",
    "    y_new=y.T[common_genes].T\n",
    "    return x_new, y_new "
   ]
  },
  {
   "cell_type": "markdown",
   "metadata": {},
   "source": [
    "# 1. Predict categories in a multi-class model "
   ]
  },
  {
   "cell_type": "code",
   "execution_count": 3,
   "metadata": {
    "collapsed": true
   },
   "outputs": [],
   "source": [
    "# genes which are expressed in at least 10 cells \n",
    "cate0 = pd.read_csv(direction+'categorial_distrib_0_own_new_thresh0_2.csv', index_col=0, header=None) # 6,282 genes\n",
    "cate3 = pd.read_csv(direction+'categorial_distrib_3_own_new_thresh0_2.csv', index_col=0, header=None) # 6,282 genes"
   ]
  },
  {
   "cell_type": "code",
   "execution_count": 4,
   "metadata": {
    "collapsed": true
   },
   "outputs": [],
   "source": [
    "# 10 cross-validation split sets on gene level\n",
    "test0 = pd.read_csv('cate0_split.tsv', sep='\\t', index_col=0)\n",
    "test3 = pd.read_csv('cate3_split.tsv', sep='\\t', index_col=0)"
   ]
  },
  {
   "cell_type": "code",
   "execution_count": 5,
   "metadata": {
    "collapsed": true
   },
   "outputs": [],
   "source": [
    "# categories according to bulk, for day0 and day3\n",
    "cate0_bulk = pd.read_csv('/homes/stlinker/paper_data/categorial_in_ex_0_own_new_thresh0_2.csv', index_col=0, header=None)\n",
    "cate3_bulk = pd.read_csv('/homes/stlinker/paper_data/categorial_in_ex_3_own_new_0_2.csv', index_col=0, header=None)"
   ]
  },
  {
   "cell_type": "code",
   "execution_count": 6,
   "metadata": {
    "collapsed": true
   },
   "outputs": [],
   "source": [
    "# switching states for day0\n",
    "cate0_ex = pd.read_csv('transfer_df_ex.csv', index_col=0, header=0)\n",
    "cate0_in = pd.read_csv('transfer_df_in.csv', index_col=0, header=0)\n",
    "cate0_mult = pd.read_csv('transfer_df_mult.csv', index_col=0, header=0)\n",
    "cate0_over = pd.read_csv('transfer_df_over.csv', index_col=0, header=0)\n",
    "cate0_under = pd.read_csv('transfer_df_under.csv', index_col=0, header=0)\n",
    "cate0_ex.index = cate0_ex.exon\n",
    "cate0_in.index = cate0_in.exon\n",
    "cate0_mult.index = cate0_mult.exon\n",
    "cate0_over.index = cate0_over.exon\n",
    "cate0_under.index = cate0_under.exon"
   ]
  },
  {
   "cell_type": "code",
   "execution_count": 7,
   "metadata": {
    "collapsed": true
   },
   "outputs": [],
   "source": [
    "# day0 features, without and with methylation\n",
    "df_features_fin=pd.read_csv(direction+'new_dataframes_features/df_no_meth_3mers_4letter.csv', index_col='gene_id') \n",
    "df_features_fin_meth=pd.read_csv(direction+'new_dataframes_features/avg_meth_6_letter_code.csv', index_col='Unnamed: 0')"
   ]
  },
  {
   "cell_type": "code",
   "execution_count": 8,
   "metadata": {
    "collapsed": true
   },
   "outputs": [],
   "source": [
    "# day3 features, without and with methylation\n",
    "df_features_fin3=pd.read_csv(direction+'new_dataframes_features_3/df_no_meth_3mers_4letter.csv', index_col='gene_id')\n",
    "df_features_fin_meth3=pd.read_csv(direction+'new_dataframes_features_3/avg_meth_6_letter_code.csv', index_col='Unnamed: 0')"
   ]
  },
  {
   "cell_type": "code",
   "execution_count": 11,
   "metadata": {
    "collapsed": true
   },
   "outputs": [],
   "source": [
    "# only mean methylatiion\n",
    "df_features_fin_meth_columns1 = df_features_fin_meth.columns[~df_features_fin_meth.columns.isin(df_features_fin.columns)]\n",
    "df_features_fin_meth_columns2 = df_features_fin_meth_columns1[0:4]\n",
    "df_features_fin_meth_columns3 = df_features_fin_meth_columns1[816:len(df_features_fin_meth_columns1)]\n",
    "df_features_fin_meth_columns = np.concatenate((df_features_fin_meth_columns2,df_features_fin_meth_columns3))\n",
    "df_features_avmeth = df_features_fin_meth[df_features_fin_meth_columns]\n",
    "\n",
    "df_features_fin_meth_columns1 = df_features_fin_meth3.columns[~df_features_fin_meth3.columns.isin(df_features_fin3.columns)]\n",
    "df_features_fin_meth_columns = df_features_fin_meth_columns1[0:14]\n",
    "df_features_avmeth3 = df_features_fin_meth3[df_features_fin_meth_columns]"
   ]
  },
  {
   "cell_type": "code",
   "execution_count": null,
   "metadata": {
    "collapsed": true
   },
   "outputs": [],
   "source": [
    "# choose features and categories\n",
    "df_features_new, cate0_new = preprocess(df_features_avmeth, cate0)\n",
    "cate0_new = pd.Series(cate0_new.iloc[:,0])"
   ]
  },
  {
   "cell_type": "code",
   "execution_count": 13,
   "metadata": {
    "collapsed": true
   },
   "outputs": [],
   "source": [
    "# choose one split set\n",
    "test0 = pd.read_csv('cate0_split.tsv', sep='\\t', index_col=0) #alternative: cate0_split_alt1.tsv, cate0_split_alt2.tsv, etc\n",
    "test3 = pd.read_csv('cate3_split.tsv', sep='\\t', index_col=0)"
   ]
  },
  {
   "cell_type": "code",
   "execution_count": null,
   "metadata": {
    "collapsed": true
   },
   "outputs": [],
   "source": [
    "df_features_new = df_features_new.loc[cate0_new.index]\n",
    "any(df_features_new.sum()==0) # no feature should be zero, i.e. this has to be False\n",
    "df_features_new = df_features_new.iloc[:,np.where(df_features_new.sum()!=0)[0]]"
   ]
  },
  {
   "cell_type": "code",
   "execution_count": 714,
   "metadata": {
    "collapsed": true
   },
   "outputs": [],
   "source": [
    "# overwrite test0 if day3 data\n",
    "test0 = test3.copy()"
   ]
  },
  {
   "cell_type": "code",
   "execution_count": null,
   "metadata": {
    "collapsed": true
   },
   "outputs": [],
   "source": [
    "# two class prediction, e.g. for the switching state\n",
    "output = 'ROC_switch_ex'\n",
    "lw = 1\n",
    "fig = plt.figure(facecolor='white')\n",
    "ax = plt.subplot(111)\n",
    "\n",
    "tprs = []\n",
    "aucs = []\n",
    "mean_fpr = np.linspace(0, 1, 100)\n",
    "\n",
    "test0 = test0[test0.exon.isin(df_features_new.index)]\n",
    "\n",
    "# split training and test sets\n",
    "for k in range(0,10):\n",
    "    X_test = df_features_new.loc[test0[test0.split==k].exon]\n",
    "    y_test = cate0_new.loc[test0[test0.split==k].exon]\n",
    "    X_train = df_features_new.loc[test0[test0.split!=k].exon]\n",
    "    y_train = cate0_new.loc[test0[test0.split!=k].exon]\n",
    "    \n",
    "    X_test = np.array(X_test)\n",
    "    y_test = np.array(y_test)\n",
    "    X_train = np.array(X_train)\n",
    "    y_train = np.array(y_train)\n",
    "    \n",
    "    classifier = sklearn.linear_model.LogisticRegression(multi_class='ovr')\n",
    "    y_score = classifier.fit(X_train, y_train).decision_function(X_test)\n",
    "\n",
    "    n_classes = 2\n",
    "    \n",
    "    categ = ['change', 'stay']\n",
    "\n",
    "    y_test = label_binarize(y_test, classes=categ)\n",
    "    color = 'cornflowerblue'\n",
    "    \n",
    "    fpr, tpr, _ = roc_curve(y_test, y_score)\n",
    "    tprs.append(interp(mean_fpr, fpr, tpr))\n",
    "    tprs[-1][0] = 0.0\n",
    "    roc_auc = auc(fpr, tpr)\n",
    "    aucs.append(roc_auc)    \n",
    "\n",
    "# mean across cross-validations    \n",
    "mean_tpr = np.mean(tprs, axis=0)\n",
    "mean_tpr[-1] = 1.0\n",
    "mean_auc = auc(mean_fpr, mean_tpr)\n",
    "\n",
    "std_auc = sem(aucs) \n",
    "\n",
    "plt.plot(mean_fpr, mean_tpr, color='b',\n",
    "         label=r'$\\mu$AUC=%0.2f' % (mean_auc),\n",
    "         lw=2, alpha=.8)\n",
    "\n",
    "std_tpr = sem(tprs, axis=0)\n",
    "\n",
    "tprs_upper = np.minimum(mean_tpr + 1.96 * std_tpr, 1)\n",
    "tprs_lower = np.maximum(mean_tpr - 1.96 * std_tpr, 0)\n",
    "plt.fill_between(mean_fpr, tprs_lower, tprs_upper, color='grey', alpha=.2)\n",
    "\n",
    "plt.xlim([-0.05, 1.05])\n",
    "plt.ylim([-0.05, 1.05])\n",
    "plt.xlabel('False Positive Rate')\n",
    "plt.ylabel('True Positive Rate')\n",
    "leg = plt.legend(loc=\"lower right\")\n",
    "leg.get_frame().set_linewidth(0.0)\n",
    "ax.spines['right'].set_visible(False)\n",
    "ax.spines['top'].set_visible(False)"
   ]
  },
  {
   "cell_type": "code",
   "execution_count": null,
   "metadata": {
    "collapsed": true
   },
   "outputs": [],
   "source": [
    "# get all AUCs from two class prediction and compare them for switching predictions\n",
    "mean_aucs_all = pd.read_csv('final_figures/AUCs_switch.tsv', sep='\\t', index_col=0)\n",
    "mean_aucs_all_meth = pd.read_csv('final_figures/AUCs_switch_meth.tsv', sep='\\t', index_col=0)\n",
    "meanss = np.mean(mean_aucs_all, axis=1)\n",
    "semss = sem(mean_aucs_all, axis=1)\n",
    "meanss_meth = np.mean(mean_aucs_all_meth, axis=1)\n",
    "semss_meth = sem(mean_aucs_all_meth, axis=1)\n",
    "\n",
    "ax = plt.subplot(111)\n",
    "bars = ax.bar(range(0,5),height=meanss[0:5],align='center',color='green',yerr=[1.96*semss[0:5],1.96*semss[0:5]],capsize=4)\n",
    "patterns = ('\\\\','/','.','-', 'x')\n",
    "for bar, pattern in zip(bars, patterns):\n",
    "    bar.set_hatch(pattern)\n",
    "    \n",
    "bars = ax.bar(range(6,11),height=meanss_meth[0:5],align='center',color='blue',yerr=[1.96*semss_meth[0:5],1.96*semss_meth[0:5]],capsize=4)\n",
    "patterns = ('\\\\','/','.','-', 'x')\n",
    "for bar, pattern in zip(bars, patterns):\n",
    "    bar.set_hatch(pattern)\n",
    "\n",
    "ax.set_xticks((2,8))\n",
    "ax.set_xticklabels( ('All', 'All meth') )\n",
    "ax.set_ylabel(r'$\\mu$AUC')\n",
    "ax.spines['right'].set_visible(False)\n",
    "ax.spines['top'].set_visible(False)"
   ]
  },
  {
   "cell_type": "code",
   "execution_count": null,
   "metadata": {
    "collapsed": true
   },
   "outputs": [],
   "source": [
    "# multiclass prediction: calculate macro AUC\n",
    "fpr = defaultdict(dict)\n",
    "tpr = defaultdict(dict)\n",
    "roc_auc = defaultdict(dict)\n",
    "\n",
    "tprs = defaultdict(dict)\n",
    "aucs = defaultdict(dict)\n",
    "mean_fpr = np.linspace(0, 1, 100)\n",
    "\n",
    "mean_tpr = defaultdict(dict)\n",
    "mean_auc = defaultdict(dict)\n",
    "std_auc = defaultdict(dict)\n",
    "std_tpr = defaultdict(dict)\n",
    "tprs_upper = defaultdict(dict)\n",
    "tprs_lower = defaultdict(dict)\n",
    "\n",
    "fprmacro = defaultdict(dict)\n",
    "\n",
    "test0 = test0[test0.exon.isin(df_features_new.index)]\n",
    "\n",
    "# split training and test sets\n",
    "for k in range(0,10):\n",
    "    X_test = df_features_new.loc[test0[test0.split==k].exon]\n",
    "    y_test = cate0_new.loc[test0[test0.split==k].exon]\n",
    "    X_train = df_features_new.loc[test0[test0.split!=k].exon]\n",
    "    y_train = cate0_new.loc[test0[test0.split!=k].exon]\n",
    "    \n",
    "    X_test = np.array(X_test)\n",
    "    y_test = np.array(y_test)\n",
    "    X_train = np.array(X_train)\n",
    "    y_train = np.array(y_train)\n",
    "    \n",
    "    classifier = RidgeClassifier(random_state=10)\n",
    "    y_score = classifier.fit(X_train, y_train).decision_function(X_test)\n",
    "    \n",
    "    n_classes = y_score.shape[1]\n",
    "\n",
    "    categ = ['excluded', 'included', 'multimodal', 'overdispersed','underdispersed']\n",
    "    y_test = label_binarize(y_test, classes=categ)\n",
    "    \n",
    "    for i in range(n_classes):\n",
    "        fpr[i] = roc_curve(y_test[:, i], y_score[:, i])[0]\n",
    "        tpr[i] = roc_curve(y_test[:, i], y_score[:, i])[1]\n",
    "        tprs[i][k] = interp(mean_fpr, fpr[i], tpr[i])\n",
    "        tprs[i][k][0] = 0.0\n",
    "        roc_auc[i] = auc(fpr[i], tpr[i])\n",
    "        aucs[i][k] = roc_auc[i]\n",
    "\n",
    "\n",
    "for i in range(n_classes):\n",
    "    mean_tpr[i] = np.mean(list(tprs[i].values()), axis=0)\n",
    "    mean_tpr[i][-1] = 1.0\n",
    "\n",
    "mean_tpr_all = np.mean(list(mean_tpr.values()), axis=0)\n",
    "roc_auc_macro = auc(mean_fpr, mean_tpr_all)"
   ]
  },
  {
   "cell_type": "code",
   "execution_count": null,
   "metadata": {
    "collapsed": true
   },
   "outputs": [],
   "source": [
    "# multiclass prediction\n",
    "lw = 1\n",
    "fig = plt.figure(facecolor='white')\n",
    "ax = plt.subplot(111)\n",
    "\n",
    "fpr = defaultdict(dict)\n",
    "tpr = defaultdict(dict)\n",
    "roc_auc = defaultdict(dict)\n",
    "\n",
    "tprs = defaultdict(dict)\n",
    "aucs = defaultdict(dict)\n",
    "mean_fpr = np.linspace(0, 1, 100)\n",
    "\n",
    "mean_tpr = defaultdict(dict)\n",
    "mean_auc = defaultdict(dict)\n",
    "std_auc = defaultdict(dict)\n",
    "std_tpr = defaultdict(dict)\n",
    "tprs_upper = defaultdict(dict)\n",
    "tprs_lower = defaultdict(dict)\n",
    "\n",
    "fprmacro = defaultdict(dict)\n",
    "\n",
    "test0 = test0[test0.exon.isin(df_features_new.index)]\n",
    "\n",
    "# split training and test sets\n",
    "for k in range(0,10):\n",
    "    X_test = df_features_new.loc[test0[test0.split==k].exon]\n",
    "    y_test = cate0_new.loc[test0[test0.split==k].exon]\n",
    "    X_train = df_features_new.loc[test0[test0.split!=k].exon]\n",
    "    y_train = cate0_new.loc[test0[test0.split!=k].exon]\n",
    "    \n",
    "    X_test = np.array(X_test)\n",
    "    y_test = np.array(y_test)\n",
    "    X_train = np.array(X_train)\n",
    "    y_train = np.array(y_train)\n",
    "    \n",
    "    classifier = RidgeClassifier(random_state=10)\n",
    "    y_score = classifier.fit(X_train, y_train).decision_function(X_test)\n",
    "    \n",
    "    n_classes = y_score.shape[1]\n",
    "\n",
    "    categ = ['excluded', 'included', 'multimodal', 'overdispersed','underdispersed']\n",
    "    y_test = label_binarize(y_test, classes=categ)\n",
    "    colors = ['cornflowerblue', 'crimson', 'goldenrod', 'teal', 'orchid']\n",
    "    \n",
    "    if k==0:\n",
    "        y_test_all = y_test.copy()\n",
    "        y_score_all = y_score.copy()\n",
    "    else:\n",
    "        y_test_all = np.append(y_test_all, y_test, axis=0)\n",
    "        y_score_all = np.append(y_score_all, y_score, axis=0)\n",
    "        \n",
    "for i in range(n_classes):\n",
    "    fpr[i] = roc_curve(y_test_all[:, i], y_score_all[:, i])[0]\n",
    "    tpr[i] = roc_curve(y_test_all[:, i], y_score_all[:, i])[1]\n",
    "    roc_auc[i] = auc(fpr[i], tpr[i])\n",
    "    aucs[i] = roc_auc[i]\n",
    "    \n",
    "for i in range(n_classes):\n",
    "    plt.plot(fpr[i], tpr[i], color=colors[i],\n",
    "             label=r'%s AUC=%0.2f' % (categ[i], aucs[i]),\n",
    "             lw=2, alpha=.8)\n",
    "\n",
    "plt.plot(mean_fpr, mean_tpr_all, 'navy',\n",
    "         label=r'macro AUC=%0.2f' % (roc_auc_macro),\n",
    "         lw=2, alpha=.8)\n",
    "\n",
    "plt.xlim([-0.05, 1.05])\n",
    "plt.ylim([-0.05, 1.05])\n",
    "plt.xlabel('False Positive Rate')\n",
    "plt.ylabel('True Positive Rate')\n",
    "leg = plt.legend(loc=\"lower right\")\n",
    "leg.get_frame().set_linewidth(0.0)\n",
    "ax.spines['right'].set_visible(False)\n",
    "ax.spines['top'].set_visible(False)"
   ]
  },
  {
   "cell_type": "markdown",
   "metadata": {},
   "source": [
    "# 2. Get most important features (in one model and in per-feature model)"
   ]
  },
  {
   "cell_type": "code",
   "execution_count": null,
   "metadata": {
    "collapsed": true
   },
   "outputs": [],
   "source": [
    "# two class prediction: extract most important features together with other infos\n",
    "score_dict=pd.DataFrame(index=df_features_new.columns, columns = range(0,10))\n",
    "auc_dict=pd.DataFrame(index=df_features_new.columns, columns = range(0,10))\n",
    "weight_dict=pd.DataFrame(index=df_features_new.columns, columns = range(0,10))\n",
    "\n",
    "for k in range(0,10):\n",
    "    X_test = df_features_new.loc[test0[test0.split==k].exon]\n",
    "    y_test = cate0_new.loc[test0[test0.split==k].exon]\n",
    "    X_train = df_features_new.loc[test0[test0.split!=k].exon]\n",
    "    y_train = cate0_new.loc[test0[test0.split!=k].exon] \n",
    "    for name in df_features_new.columns:\n",
    "        X_testn = np.array(X_test[name])\n",
    "        X_testn = X_testn.reshape(-1, 1)\n",
    "        X_trainn = np.array(X_train[name])\n",
    "        X_trainn = X_trainn.reshape(-1, 1)\n",
    "        y_testn = np.array(y_test)\n",
    "        y_trainn = np.array(y_train)\n",
    "        classifier = RidgeClassifier(random_state=10)\n",
    "        y_score = classifier.fit(X_trainn, y_trainn).decision_function(X_testn)\n",
    "        n_classes = 2\n",
    "        #y_testn = label_binarize(y_testn, classes=['excluded', 'included'])\n",
    "        y_testn = label_binarize(y_testn, classes=['change', 'stay'])\n",
    "        fpr, tpr, _ = roc_curve(y_testn, y_score)\n",
    "        roc_auc = auc(fpr, tpr)\n",
    "        score_dict[k].loc[name]=np.abs(np.std(df_features_new[name], 0)*classifier.coef_[:,0])\n",
    "        auc_dict[k].loc[name]=roc_auc\n",
    "        weight_dict[k].loc[name]=classifier.coef_[:,0]\n",
    "        \n",
    "i= score_dict.columns[0]\n",
    "\n",
    "score_dict = pd.DataFrame(score_dict.mean(axis=1),columns=[i])\n",
    "auc_dict = pd.DataFrame(auc_dict.mean(axis=1),columns=[i])\n",
    "weight_dict = pd.DataFrame(weight_dict.mean(axis=1),columns=[i])\n",
    "        \n",
    "columnarray = np.array(['feature','AUC','effect','sign'])\n",
    "\n",
    "score_df10 = pd.DataFrame(index=range(0,score_dict.shape[0]), columns=columnarray)\n",
    "score_df10['feature'] = score_dict[i].loc[auc_dict.index[auc_dict[i].argsort()[::-1].values]].index\n",
    "score_df10['effect'].loc[score_df10.index] = np.array([round(x,3) for x in score_dict[i].loc[auc_dict.index[auc_dict[i].argsort()[::-1].values]].values])\n",
    "score_df10['sign'].loc[score_df10.index] = np.array([np.sign(x) for x in weight_dict[i].loc[auc_dict.index[auc_dict[i].argsort()[::-1].values]].values])\n",
    "score_df10['AUC'].loc[score_df10.index] = np.array([round(x,3) for x in auc_dict[i].loc[auc_dict.index[auc_dict[i].argsort()[::-1].values]].values])\n",
    "score_df10.index = range(1,(score_dict.shape[0] + 1))\n",
    "\n",
    "score_df10.head()\n",
    "\n"
   ]
  },
  {
   "cell_type": "code",
   "execution_count": null,
   "metadata": {
    "collapsed": true
   },
   "outputs": [],
   "source": [
    "# multiclass prediction: extract most important features together with other infos\n",
    "\n",
    "score_dict_all = defaultdict(dict)\n",
    "auc_dict_all = defaultdict(dict) \n",
    "weight_dict_all = defaultdict(dict) \n",
    "\n",
    "for k in range(0,10):\n",
    "    X_test = df_features_new.loc[test0[test0.split==k].exon]\n",
    "    y_test = cate0_new.loc[test0[test0.split==k].exon]\n",
    "    X_train = df_features_new.loc[test0[test0.split!=k].exon]\n",
    "    y_train = cate0_new.loc[test0[test0.split!=k].exon]\n",
    "    \n",
    "    score_dict_all[k] = pd.DataFrame(index=df_features_new.columns, columns = ['excluded', 'included', 'multimodal', 'overdispersed', 'underdispersed'])\n",
    "    auc_dict_all[k] = pd.DataFrame(index=df_features_new.columns, columns = ['excluded', 'included', 'multimodal', 'overdispersed', 'underdispersed'])\n",
    "    weight_dict_all[k] = pd.DataFrame(index=df_features_new.columns, columns = ['excluded', 'included', 'multimodal', 'overdispersed', 'underdispersed'])\n",
    "    \n",
    "    for name in df_features_new.columns:\n",
    "        X_testn = np.array(X_test[name])\n",
    "        X_testn = X_testn.reshape(-1, 1)\n",
    "        X_trainn = np.array(X_train[name])\n",
    "        X_trainn = X_trainn.reshape(-1, 1)\n",
    "        y_testn = np.array(y_test)\n",
    "        y_trainn = np.array(y_train)\n",
    "        classifier = RidgeClassifier(random_state=10)\n",
    "        y_score = classifier.fit(X_trainn, y_trainn).decision_function(X_testn)\n",
    "        n_classes = y_score.shape[1]\n",
    "        \n",
    "        y_testn = label_binarize(y_testn, classes=['excluded', 'included', 'multimodal', 'overdispersed', 'underdispersed'])\n",
    "        \n",
    "        fpr = dict()\n",
    "        tpr = dict()\n",
    "        roc_auc = dict()\n",
    "        for i in range(n_classes):\n",
    "            fpr[i], tpr[i], _ = roc_curve(y_testn[:, i], y_score[:, i])\n",
    "            roc_auc[i] = auc(fpr[i], tpr[i])\n",
    "        score_dict_all[k].loc[name]=np.abs(np.std(df_features_new[name], 0)*classifier.coef_[:,0])\n",
    "        auc_dict_all[k].loc[name]=list(roc_auc.values())\n",
    "        weight_dict_all[k].loc[name]=classifier.coef_[:,0]\n",
    "        \n",
    "        \n",
    "score_dict_alls = score_dict_all[0]\n",
    "auc_dict_alls = auc_dict_all[0]\n",
    "weight_dict_alls = weight_dict_all[0]\n",
    "for k in range(1,10):\n",
    "    score_dict_alls = pd.concat([score_dict_alls,score_dict_all[k]])\n",
    "    auc_dict_alls = pd.concat([auc_dict_alls,auc_dict_all[k]])\n",
    "    weight_dict_alls = pd.concat([weight_dict_alls,weight_dict_all[k]])\n",
    "score_dict_alls = score_dict_alls.groupby(score_dict_alls.index).sum()/10\n",
    "auc_dict_alls = auc_dict_alls.groupby(auc_dict_alls.index).sum()/10\n",
    "weight_dict_alls = weight_dict_alls.groupby(weight_dict_alls.index).sum()/10\n",
    "\n",
    "columnarray = [np.array(['excluded','excluded','excluded','excluded','included','included','included',\n",
    "                         'included','multimodal','multimodal','multimodal','multimodal','overdispersed','overdispersed',\n",
    "                         'overdispersed','overdispersed','underdispersed','underdispersed','underdispersed','underdispersed']),\n",
    "              np.array(['feature','AUC','effect','sign','feature','AUC','effect','sign',\n",
    "                       'feature','AUC','effect','sign','feature','AUC','effect','sign',\n",
    "                       'feature','AUC','effect','sign'])]\n",
    "\n",
    "\n",
    "score_df10 = pd.DataFrame(index=score_dict_alls.index, columns=columnarray)\n",
    "for i in score_dict_alls.columns:\n",
    "    score_df10[i]['feature'] = score_dict_alls[i].loc[auc_dict_alls.index[auc_dict_alls[i].argsort()[::-1].values]].index\n",
    "    score_df10[i]['effect'].loc[score_df10.index] = np.array([round(x,3) for x in score_dict_alls[i].loc[auc_dict_alls.index[auc_dict_alls[i].argsort()[::-1].values]].values])\n",
    "    score_df10[i]['sign'].loc[score_df10.index] = np.array([np.sign(x) for x in weight_dict_alls[i].loc[auc_dict_alls.index[auc_dict_alls[i].argsort()[::-1].values]].values])\n",
    "    score_df10[i]['AUC'].loc[score_df10.index] = np.array([round(x,3) for x in auc_dict_alls[i].loc[auc_dict_alls.index[auc_dict_alls[i].argsort()[::-1].values]].values])\n",
    "score_df10.index = range(1,(score_dict_alls.shape[0]+1))\n",
    "\n",
    "score_df10.head()"
   ]
  }
 ],
 "metadata": {
  "anaconda-cloud": {},
  "kernelspec": {
   "display_name": "Python [default]",
   "language": "python",
   "name": "python3"
  },
  "language_info": {
   "codemirror_mode": {
    "name": "ipython",
    "version": 3
   },
   "file_extension": ".py",
   "mimetype": "text/x-python",
   "name": "python",
   "nbconvert_exporter": "python",
   "pygments_lexer": "ipython3",
   "version": "3.5.2"
  }
 },
 "nbformat": 4,
 "nbformat_minor": 2
}
